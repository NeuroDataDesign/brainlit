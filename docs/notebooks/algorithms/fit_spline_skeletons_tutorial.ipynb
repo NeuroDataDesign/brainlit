{
 "metadata": {
  "language_info": {
   "codemirror_mode": {
    "name": "ipython",
    "version": 3
   },
   "file_extension": ".py",
   "mimetype": "text/x-python",
   "name": "python",
   "nbconvert_exporter": "python",
   "pygments_lexer": "ipython3",
   "version": "3.8.5-final"
  },
  "orig_nbformat": 2,
  "kernelspec": {
   "name": "Python 3.8.5 64-bit ('brainlit': conda)",
   "display_name": "Python 3.8.5 64-bit ('brainlit': conda)",
   "metadata": {
    "interpreter": {
     "hash": "23a6901d04df5a24b139bf940691d9158a219126a6bc30bd2116c3bca95057cb"
    }
   }
  }
 },
 "nbformat": 4,
 "nbformat_minor": 2,
 "cells": [
  {
   "cell_type": "code",
   "execution_count": 29,
   "metadata": {
    "tags": []
   },
   "outputs": [
    {
     "output_type": "stream",
     "name": "stderr",
     "text": [
      "Downloading: 100%|██████████| 1/1 [00:00<00:00, 18.91it/s]\n",
      "     sample  structure        x        y       z    r  parent\n",
      "0         1          0  14263.0  15815.0  2970.0  1.0      -1\n",
      "1         2          0  14301.0  15837.0  2974.0  1.0       1\n",
      "2        10          0  14363.0  15789.0  2975.0  1.0       2\n",
      "3        12          0  14385.0  15709.0  2985.0  1.0      10\n",
      "4        24          0  14445.0  15613.0  2989.0  1.0      12\n",
      "..      ...        ...      ...      ...     ...  ...     ...\n",
      "805     295          0  14981.0  14471.0  3014.0  1.0     353\n",
      "806     307          0  14993.0  14369.0  3011.0  1.0     295\n",
      "807     333          0  15013.0  14257.0  3032.0  1.0     307\n",
      "808     337          0  15015.0  14198.0  3074.0  1.0     333\n",
      "809     351          0  15034.0  14219.0  3087.0  1.0     337\n",
      "\n",
      "[810 rows x 7 columns]\n",
      "<class 'networkx.classes.digraph.DiGraph'>\n"
     ]
    }
   ],
   "source": [
    "import numpy as np\n",
    "from pathlib import Path\n",
    "import re\n",
    "import pandas as pd\n",
    "import networkx as nx\n",
    "from cloudvolume import CloudVolume, Skeleton\n",
    "from io import StringIO\n",
    "from brainlit.utils.session import read_s3, df_to_graph\n",
    "\n",
    "s3_path = \"s3://open-neurodata/brainlit/brain1_segments\"\n",
    "mip = 0\n",
    "\n",
    "df_neuron = read_s3(s3_path, 120, mip)\n",
    "g_neuron = df_to_graph(df_neuron)\n",
    "print(df_neuron)\n",
    "print(type(g_neuron))"
   ]
  },
  {
   "cell_type": "code",
   "execution_count": null,
   "metadata": {},
   "outputs": [],
   "source": []
  }
 ]
}